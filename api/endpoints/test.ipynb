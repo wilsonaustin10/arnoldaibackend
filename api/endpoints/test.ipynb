{
 "cells": [
  {
   "cell_type": "code",
   "execution_count": 1,
   "metadata": {},
   "outputs": [],
   "source": [
    "import os\n",
    "import signal\n",
    "import elevenlabs\n",
    "from elevenlabs.client import ElevenLabs\n",
    "from elevenlabs.conversational_ai.conversation import Conversation\n",
    "from elevenlabs.conversational_ai.default_audio_interface import DefaultAudioInterface\n",
    "\n",
    "agent_id = \"ruOXgAPEKXx6RHpsL7YE\"\n",
    "ELEVENLABS_API_KEY = os.getenv(\"ELEVENLABS_API_KEY\")\n",
    "\n",
    "elevenlabs = ElevenLabs(api_key=ELEVENLABS_API_KEY)\n",
    "# Generate speech from text\n",
    "audio_bytes = elevenlabs.text_to_speech.convert(\n",
    "    text=\"Hello Austin\",\n",
    "    voice_id=agent_id,\n",
    "    model_id=\"eleven_multilingual_v2\",  # or another model if you prefer\n",
    "\n",
    ")\n",
    "# conversation = Conversation(\n",
    "#     # API client and agent ID.\n",
    "#     elevenlabs,\n",
    "#     agent_id,\n",
    "#     # Assume auth is required when API_KEY is set.\n",
    "#     requires_auth=bool(api_key),\n",
    "#     # Use the default audio interface.\n",
    "#     audio_interface=DefaultAudioInterface(),\n",
    "#     # Simple callbacks that print the conversation to the console.\n",
    "#     callback_agent_response=lambda response: print(f\"Agent: {response}\"),\n",
    "#     callback_agent_response_correction=lambda original, corrected: print(f\"Agent: {original} -> {corrected}\"),\n",
    "#     callback_user_transcript=lambda transcript: print(f\"User: {transcript}\"),\n",
    "#     # Uncomment if you want to see latency measurements.\n",
    "#     # callback_latency_measurement=lambda latency: print(f\"Latency: {latency}ms\"),\n",
    "# )\n",
    "\n",
    "# conversation.start_session()\n"
   ]
  },
  {
   "cell_type": "code",
   "execution_count": 5,
   "metadata": {},
   "outputs": [],
   "source": [
    "from elevenlabs import play, save\n",
    "\n",
    "save(audio_bytes, \"test.mp3\")"
   ]
  },
  {
   "cell_type": "code",
   "execution_count": null,
   "metadata": {},
   "outputs": [],
   "source": []
  }
 ],
 "metadata": {
  "kernelspec": {
   "display_name": ".venv",
   "language": "python",
   "name": "python3"
  },
  "language_info": {
   "codemirror_mode": {
    "name": "ipython",
    "version": 3
   },
   "file_extension": ".py",
   "mimetype": "text/x-python",
   "name": "python",
   "nbconvert_exporter": "python",
   "pygments_lexer": "ipython3",
   "version": "3.12.0"
  }
 },
 "nbformat": 4,
 "nbformat_minor": 2
}
